{
 "cells": [
  {
   "cell_type": "markdown",
   "metadata": {},
   "source": [
    "# 1.Importing Packages"
   ]
  },
  {
   "cell_type": "code",
   "execution_count": 1,
   "metadata": {},
   "outputs": [],
   "source": [
    "import pandas as pd\n",
    "import numpy as np"
   ]
  },
  {
   "cell_type": "markdown",
   "metadata": {},
   "source": [
    "# 2.Loading Dataset From UCI"
   ]
  },
  {
   "cell_type": "markdown",
   "metadata": {},
   "source": [
    "## 2.1 Data Description"
   ]
  },
  {
   "cell_type": "markdown",
   "metadata": {},
   "source": [
    "Predicting the age of abalone from physical measurements."
   ]
  },
  {
   "cell_type": "markdown",
   "metadata": {},
   "source": [
    "Name\t\tData Type\tMeas.\tDescription\n",
    "\t----\t\t---------\t-----\t-----------\n",
    "\tSex\t\tnominal\t\t\tM, F, and I (infant)\n",
    "\tLength\t\tcontinuous\tmm\tLongest shell measurement\n",
    "\tDiameter\tcontinuous\tmm\tperpendicular to length\n",
    "\tHeight\t\tcontinuous\tmm\twith meat in shell\n",
    "\tWhole weight\tcontinuous\tgrams\twhole abalone\n",
    "\tShucked weight\tcontinuous\tgrams\tweight of meat\n",
    "\tViscera weight\tcontinuous\tgrams\tgut weight (after bleeding)\n",
    "\tShell weight\tcontinuous\tgrams\tafter being dried\n",
    "\tRings\t\tinteger\t\t\tage(target values)"
   ]
  },
  {
   "cell_type": "markdown",
   "metadata": {},
   "source": [
    "## 2.2 Data Overview"
   ]
  },
  {
   "cell_type": "code",
   "execution_count": 2,
   "metadata": {},
   "outputs": [
    {
     "name": "stdout",
     "output_type": "stream",
     "text": [
      "   0      1      2      3       4       5       6      7   8\n",
      "0  M  0.455  0.365  0.095  0.5140  0.2245  0.1010  0.150  15\n",
      "1  M  0.350  0.265  0.090  0.2255  0.0995  0.0485  0.070   7\n",
      "2  F  0.530  0.420  0.135  0.6770  0.2565  0.1415  0.210   9\n",
      "3  M  0.440  0.365  0.125  0.5160  0.2155  0.1140  0.155  10\n",
      "4  I  0.330  0.255  0.080  0.2050  0.0895  0.0395  0.055   7\n",
      "\n",
      "\n",
      "<class 'pandas.core.frame.DataFrame'>\n",
      "RangeIndex: 4177 entries, 0 to 4176\n",
      "Data columns (total 9 columns):\n",
      "0    4177 non-null object\n",
      "1    4177 non-null float64\n",
      "2    4177 non-null float64\n",
      "3    4177 non-null float64\n",
      "4    4177 non-null float64\n",
      "5    4177 non-null float64\n",
      "6    4177 non-null float64\n",
      "7    4177 non-null float64\n",
      "8    4177 non-null int64\n",
      "dtypes: float64(7), int64(1), object(1)\n",
      "memory usage: 293.8+ KB\n",
      "None\n"
     ]
    }
   ],
   "source": [
    "raw_data = pd.read_csv('/home/llw/py_scripts/6_28_presentation/data_set/abalone.csv',header=None) #load data\n",
    "print(raw_data.head())\n",
    "print('\\n')\n",
    "print(raw_data.info())"
   ]
  },
  {
   "cell_type": "markdown",
   "metadata": {},
   "source": [
    "## 2.3 Data Mapping and Rebuilding"
   ]
  },
  {
   "cell_type": "code",
   "execution_count": 13,
   "metadata": {},
   "outputs": [],
   "source": [
    "raw_data = pd.read_csv('/home/llw/py_scripts/6_28_presentation/data_set/abalone.csv',header=None) #load data\n",
    "attributes = ['sex','length','diameter','height','wh_wt','sk_wt','vr_wt','sl_wt','age']\n",
    "features =  ['sex','length','diameter','height','wh_wt','sk_wt','vr_wt','sl_wt']\n",
    "raw_data.columns = attributes\n",
    "#sex mapping\n",
    "sex_mapping = {'I':0,'F':1,'M':2}    #mapping strings to intergers\n",
    "raw_data = raw_data.replace(sex_mapping)\n",
    "#age mapping\n",
    "age_col = np.zeros(raw_data['age'].shape[0])\n",
    "age_col+= (10<np.array(raw_data['age'])).astype(int)*(20>=np.array(raw_data['age'])).astype(int)   # 10<age<=20 is class 1\n",
    "age_col+= (20<np.array(raw_data['age'])).astype(int)*2"
   ]
  },
  {
   "cell_type": "markdown",
   "metadata": {},
   "source": [
    "# 3 Training"
   ]
  },
  {
   "cell_type": "code",
   "execution_count": 4,
   "metadata": {},
   "outputs": [],
   "source": [
    "class LeastSquare():\n",
    "    def __init__(self):\n",
    "        self.paras = []    #parameters\n",
    "    def fit(self,x,y):\n",
    "        x = self.x_process(x)\n",
    "        y = self.y_process(y)\n",
    "        Xt = np.transpose(x)\n",
    "        XtX = np.dot(Xt,x)\n",
    "        X_cross = np.dot(np.linalg.pinv(XtX),Xt)\n",
    "        self.paras = np.dot(X_cross,y)\n",
    "    def y_process(self,y):\n",
    "        '''\n",
    "        build a multi-dimension y matrix if it's multi-class\n",
    "        '''\n",
    "        y = y.reshape(-1,1)\n",
    "        num = y.shape[0]\n",
    "        y_unique = np.unique(y).reshape(1,-1)   # to form a 1*29 numpy array\n",
    "        classes = np.repeat(y_unique,num,axis=0)\n",
    "        res_mat = (y==classes).astype(int)\n",
    "        return res_mat\n",
    "    def x_process(self,x):\n",
    "        '''\n",
    "        add ones\n",
    "        '''\n",
    "        train_sample_num = x.shape[0]\n",
    "        train_attrs_num = x.shape[1]\n",
    "        x = np.hstack((np.ones((train_sample_num,1)),x))    # add ones\n",
    "        return x\n",
    "    def predict(self,xtest):\n",
    "        xtest = self.x_process(xtest)\n",
    "        xtest = np.transpose(xtest)\n",
    "        pre = np.dot(np.transpose(self.paras),xtest) \n",
    "        res_pre = np.argmax(pre,axis=0) \n",
    "        return res_pre"
   ]
  },
  {
   "cell_type": "markdown",
   "metadata": {},
   "source": [
    "### 3.1 Training and Testing Set"
   ]
  },
  {
   "cell_type": "code",
   "execution_count": 5,
   "metadata": {},
   "outputs": [],
   "source": [
    "raw_data.columns = attributes\n",
    "num = raw_data.shape[0]\n",
    "train_num = 4100\n",
    "test_num = num - train_num\n",
    "\n",
    "def my_train_test_split(raw_data,attr):\n",
    "    data = raw_data[[attr[0],attr[1],'age']]\n",
    "    xdata = np.array(data[attr])\n",
    "    ydata = age_col\n",
    "    #ydata = np.array(data['age'])\n",
    "    xtrain = xdata[0:train_num]\n",
    "    xtest = xdata[train_num:]\n",
    "    ytrain = ydata[0:train_num]\n",
    "    ytest = ydata[train_num:]\n",
    "    return [xtrain,ytrain,xtest,ytest]"
   ]
  },
  {
   "cell_type": "markdown",
   "metadata": {},
   "source": [
    "### 3.2 Sklearn Baseline"
   ]
  },
  {
   "cell_type": "code",
   "execution_count": 15,
   "metadata": {},
   "outputs": [
    {
     "name": "stdout",
     "output_type": "stream",
     "text": [
      "accuracy = 0.7922077922077922\n"
     ]
    }
   ],
   "source": [
    "data = raw_data[attributes]\n",
    "xdata = np.array(data[features])\n",
    "ydata = age_col\n",
    "xtrain = xdata[0:train_num]\n",
    "xtest = xdata[train_num:]\n",
    "ytrain = ydata[0:train_num]\n",
    "ytest = ydata[train_num:]\n",
    "\n",
    "from sklearn.svm import SVC\n",
    "from sklearn.tree import DecisionTreeClassifier\n",
    "from sklearn.linear_model import LogisticRegression\n",
    "model = SVC()\n",
    "#model = DecisionTreeClassifier()\n",
    "#model = LogisticRegression()\n",
    "model.fit(xtrain,ytrain)\n",
    "pre = model.predict(xtest)\n",
    "assert pre.shape==ytest.shape\n",
    "print('accuracy =',sum(pre==ytest)/test_num)"
   ]
  },
  {
   "cell_type": "markdown",
   "metadata": {},
   "source": [
    "### 3.3 LeastSquare "
   ]
  },
  {
   "cell_type": "code",
   "execution_count": 14,
   "metadata": {},
   "outputs": [
    {
     "name": "stdout",
     "output_type": "stream",
     "text": [
      "accuracy with attrs chosen as sex and length = 0.792208\n",
      "accuracy with attrs chosen as sex and diameter = 0.805195\n",
      "accuracy with attrs chosen as sex and height = 0.740260\n",
      "accuracy with attrs chosen as sex and wh_wt = 0.753247\n",
      "accuracy with attrs chosen as sex and sk_wt = 0.753247\n",
      "accuracy with attrs chosen as sex and vr_wt = 0.766234\n",
      "accuracy with attrs chosen as sex and sl_wt = 0.792208\n",
      "accuracy with attrs chosen as length and diameter = 0.779221\n",
      "accuracy with attrs chosen as length and height = 0.753247\n",
      "accuracy with attrs chosen as length and wh_wt = 0.753247\n",
      "accuracy with attrs chosen as length and sk_wt = 0.792208\n",
      "accuracy with attrs chosen as length and vr_wt = 0.766234\n",
      "accuracy with attrs chosen as length and sl_wt = 0.766234\n",
      "accuracy with attrs chosen as diameter and height = 0.766234\n",
      "accuracy with attrs chosen as diameter and wh_wt = 0.766234\n",
      "accuracy with attrs chosen as diameter and sk_wt = 0.779221\n",
      "accuracy with attrs chosen as diameter and vr_wt = 0.779221\n",
      "accuracy with attrs chosen as diameter and sl_wt = 0.753247\n",
      "accuracy with attrs chosen as height and wh_wt = 0.727273\n",
      "accuracy with attrs chosen as height and sk_wt = 0.727273\n",
      "accuracy with attrs chosen as height and vr_wt = 0.766234\n",
      "accuracy with attrs chosen as height and sl_wt = 0.779221\n",
      "accuracy with attrs chosen as wh_wt and sk_wt = 0.779221\n",
      "accuracy with attrs chosen as wh_wt and vr_wt = 0.740260\n",
      "accuracy with attrs chosen as wh_wt and sl_wt = 0.753247\n",
      "accuracy with attrs chosen as sk_wt and vr_wt = 0.818182\n",
      "accuracy with attrs chosen as sk_wt and sl_wt = 0.766234\n",
      "accuracy with attrs chosen as vr_wt and sl_wt = 0.779221\n"
     ]
    }
   ],
   "source": [
    "features =  ['sex','length','diameter','height','wh_wt','sk_wt','vr_wt','sl_wt']\n",
    "for count1 in range(len(features)-1):\n",
    "    for count2 in range(count1+1,len(features)):\n",
    "        attr = [features[count1],features[count2]]      \n",
    "        [xtrain,ytrain,xtest,ytest] = my_train_test_split(raw_data,attr)\n",
    "        ls = LeastSquare()\n",
    "        ls.fit(xtrain,ytrain)      \n",
    "        pre = ls.predict(xtest)\n",
    "        assert pre.shape==ytest.shape\n",
    "        print('accuracy with attrs chosen as %s and %s = %lf'%(attr[0],attr[1],sum(pre==ytest)/test_num))"
   ]
  },
  {
   "cell_type": "markdown",
   "metadata": {},
   "source": [
    "### 3.4 LDA"
   ]
  },
  {
   "cell_type": "code",
   "execution_count": 47,
   "metadata": {},
   "outputs": [
    {
     "name": "stdout",
     "output_type": "stream",
     "text": [
      "accuracy with lda =  0.7662337662337663\n",
      "projected data [[-0.11083513 -0.8562112 ]\n",
      " [ 0.99687589 -0.59792295]\n",
      " [ 1.94705638 -0.65126871]\n",
      " [ 1.30314118 -1.61880921]\n",
      " [ 0.76268405 -1.70750558]\n",
      " [ 1.23844672 -0.378183  ]\n",
      " [ 1.37026099 -2.12822668]\n",
      " [-1.45901586  0.61949359]\n",
      " [-1.27130713  0.24550984]\n",
      " [-0.6630661  -0.35321381]\n",
      " [ 1.00457926 -0.52202528]\n",
      " [-0.96121898 -0.30356993]\n",
      " [ 0.8781679   0.17888481]\n",
      " [-1.1884999  -0.9182526 ]\n",
      " [-1.30552974 -1.06486272]\n",
      " [-0.78718608 -1.51818474]\n",
      " [-0.91180376 -1.51926221]\n",
      " [ 0.07471849 -1.31813369]\n",
      " [ 1.23767096 -0.60276846]\n",
      " [-1.54440598  1.39260677]\n",
      " [-0.75198772  0.75754039]\n",
      " [-0.7143742   0.97811519]\n",
      " [-0.55024628  0.36149754]\n",
      " [-0.55129548  0.28863445]\n",
      " [-0.48832532  0.17694123]\n",
      " [-0.76630774 -0.39557609]\n",
      " [ 0.19181586  0.16074877]\n",
      " [-0.38476264  0.20985347]\n",
      " [ 0.10081652 -0.99562095]\n",
      " [-0.20889044  0.95618391]\n",
      " [ 0.33568245 -0.17856286]\n",
      " [-0.37165977  0.75379955]\n",
      " [ 0.96603331 -0.17730232]\n",
      " [ 0.23852803 -1.53830707]\n",
      " [ 0.04932186 -0.52438105]\n",
      " [ 1.2587467  -0.76956087]\n",
      " [ 0.12933734 -0.08716578]\n",
      " [ 0.60232919 -0.60489356]\n",
      " [ 0.59237987 -1.02578731]\n",
      " [ 0.71779484 -1.04758768]\n",
      " [ 2.22865215  0.52985988]\n",
      " [ 1.35469556  0.26547976]\n",
      " [ 0.91799491 -0.8237724 ]\n",
      " [ 0.47102289 -1.28273927]\n",
      " [ 1.94484381  0.61071037]\n",
      " [ 4.58477113  2.91616839]\n",
      " [ 0.73041293 -2.41438661]\n",
      " [ 1.49199845 -0.85935039]\n",
      " [ 1.58413763 -2.34845738]\n",
      " [-1.55640584  1.06949025]\n",
      " [-1.49771808  1.20926458]\n",
      " [-1.67621968  1.04286348]\n",
      " [-1.41862056  0.58655137]\n",
      " [-1.25766936  0.84753754]\n",
      " [-1.71525591  0.28750164]\n",
      " [-0.87563917  0.1985336 ]\n",
      " [-0.57731979 -0.17350948]\n",
      " [-0.548541    0.05718379]\n",
      " [-0.99234171  0.75544501]\n",
      " [ 0.08308306  0.10575574]\n",
      " [ 0.53875181 -0.299526  ]\n",
      " [ 0.22248153 -1.13422226]\n",
      " [-0.97816887  1.06536155]\n",
      " [-1.52176065  0.25102427]\n",
      " [-1.25413913  0.76974587]\n",
      " [-1.41766358  0.96916827]\n",
      " [-0.85898992  0.69308397]\n",
      " [-0.6741704  -0.25523092]\n",
      " [-0.63729113  0.01883351]\n",
      " [-0.55342933 -0.44227022]\n",
      " [ 0.5832472  -0.14696318]\n",
      " [-0.11274369 -0.16021996]\n",
      " [ 0.15578956 -1.20455451]\n",
      " [-0.13972671 -0.38750991]\n",
      " [ 0.53602874 -1.4608586 ]\n",
      " [-0.43350773 -1.35762632]\n",
      " [ 0.89662394 -0.69785369]]\n",
      "explained_variance_ratio [0.95712421 0.04287579]\n"
     ]
    }
   ],
   "source": [
    "from sklearn.discriminant_analysis import LinearDiscriminantAnalysis\n",
    "\n",
    "data = raw_data[attributes]\n",
    "xdata = np.array(data[features])\n",
    "ydata = age_col\n",
    "xtrain = xdata[0:train_num]\n",
    "xtest = xdata[train_num:]\n",
    "ytrain = ydata[0:train_num]\n",
    "ytest = ydata[train_num:]\n",
    "\n",
    "lda = LinearDiscriminantAnalysis(n_components=2)\n",
    "lda.fit(xtrain,ytrain)\n",
    "xtest_trans = lda.transform(xtest)\n",
    "\n",
    "pre = lda.predict(xtest)\n",
    "\n",
    "assert pre.shape==ytest.shape\n",
    "print('accuracy with lda = ',sum(pre==ytest)/test_num)\n",
    "print('projected data',xtest_trans)\n",
    "print('explained_variance_ratio',lda.explained_variance_ratio_ )\n"
   ]
  },
  {
   "cell_type": "code",
   "execution_count": null,
   "metadata": {},
   "outputs": [],
   "source": []
  }
 ],
 "metadata": {
  "kernelspec": {
   "display_name": "Python 3",
   "language": "python",
   "name": "python3"
  },
  "language_info": {
   "codemirror_mode": {
    "name": "ipython",
    "version": 3
   },
   "file_extension": ".py",
   "mimetype": "text/x-python",
   "name": "python",
   "nbconvert_exporter": "python",
   "pygments_lexer": "ipython3",
   "version": "3.6.5"
  }
 },
 "nbformat": 4,
 "nbformat_minor": 2
}
